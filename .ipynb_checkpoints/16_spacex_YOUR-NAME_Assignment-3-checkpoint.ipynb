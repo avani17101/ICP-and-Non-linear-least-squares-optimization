{
 "cells": [
  {
   "cell_type": "markdown",
   "metadata": {},
   "source": [
    "# Assignment 3: ICP + Non-linear least squares optimization\n",
    "\n",
    "TEAM-ID:  16 \n",
    "TEAM-NAME: spacex  \n",
    "YOUR-ID:   \n",
    "YOUR-NAME:   \n",
    "\n",
    "(Although you work in groups, both the students have to submit to Moodle, hence there's name field above)\n",
    "\n",
    "\n",
    "## Instructions\n",
    "\n",
    "* Please check Moodle for \"TEAM-ID\" and \"TEAM-NAME\" fields above. Some of your names have been edited because of redundancy/simplicity. Instructions for submitting the assignment through GitHub Classrooms/Moodle has been uploaded on Moodle. Any clarifications will be made there itself.\n",
    "* Code must be written in Python in Jupyter Notebooks. You can use Assignment-1's environment for this assignment. More instructions for setup provided as you progress through this assignment.\n",
    "* Both the team members must submit the zip file.\n",
    "* You are not allowed to use any external libraries (other than ones being imported below).\n",
    "* Answer the descriptive questions in your own words with context & clarity. Do not just copy-paste from some Wikipedia page. You will be evaluated accordingly.\n",
    "* You could split the Jupyter Notebook cells where TODO is written, but please try to avoid splitting/changing the structure of other cells."
   ]
  },
  {
   "cell_type": "code",
   "execution_count": 4,
   "metadata": {},
   "outputs": [],
   "source": [
    "# Only allowed to use these libraries for this assignment. \n",
    "# Setup: Just activate Assignment-1's environment and install matplotlib `python -m pip install -U matplotlib`\n",
    "\n",
    "import numpy as np\n",
    "import math\n",
    "import matplotlib.pyplot as plt\n",
    "import time"
   ]
  },
  {
   "cell_type": "markdown",
   "metadata": {},
   "source": [
    "# Question 1: Simple Non-Linear least squares for Gaussian function\n",
    "\n",
    "First, go through the [solved example here](https://www.notion.so/saishubodh/From-linear-algebra-to-non-linear-weighted-least-squares-13cf17d318be4d45bb8577c4d3ea4a02#1de60a8465664d39a12af24353feef9e) from the [notes page](https://www.notion.so/saishubodh/Mobile-Robotics-2020-Students-Page-0b65a9c20edd4081978f4ffad917febb#a68cabac64754fa485144cc89b4b8c65). After understanding this, \n",
    "\n",
    "(1.1) Code it from scratch using `numpy` and try it out yourself for say different number of iterations with a certain tolerance for all 50 observations using Gradient Descent. Make the following plots using `matplotlib`:\n",
    "   * Data and fit plot: Ground truth Gaussian, observations (points) & predicted Gaussian on the same plot.\n",
    "   * Cost function ($\\|r\\|^2$) vs number of iterations   \n",
    "   \n",
    "Experiment with the hyperparameters and compile your observations in a table. Clearly mention your hyperparameters with justification.\n",
    "\n",
    "(1.2) You've used Gradient Descent above. Now implement Gauss-Newton and LM algorithms. To contrast between the three, you must experiment with \n",
    "   * Different initial estimate: Can a particular algorithm handle if the initial estimate is too far from GT?\n",
    "   * Different number of observations: Can a particular algorithm handle very less observations?\n",
    "   * Add [noise](https://numpy.org/doc/stable/reference/random/generated/numpy.random.normal.html) to your observations: Can a particular algorithm handle large noise?\n",
    "   * What else can you think of? (For example, can an algorithm converge in less iterations compared to others?)\n",
    "    \n",
    "Make the plots (mentioned in 1.1) for all 3 algorithms. Report your observations in a table(s) (comparison between the three for different factors). You will be awarded depending on how comprehensive your experimentation is (which you have to explain below under \"**Answers for Question 1**\" section)."
   ]
  },
  {
   "cell_type": "markdown",
   "metadata": {},
   "source": [
    "## Code for Question 1"
   ]
  },
  {
   "cell_type": "code",
   "execution_count": null,
   "metadata": {},
   "outputs": [],
   "source": [
    "# Only numpy & matplotlib is sufficient for this question.\n",
    "##############################################################################\n",
    "# TODO: Do tasks described in Question 1                                     #\n",
    "##############################################################################\n",
    "# Replace \"pass\" statement with your code (You can split this cell into\n",
    "# multiple cells if you wish to)\n",
    "pass\n",
    "##############################################################################\n",
    "#                             END OF YOUR CODE                               #\n",
    "##############################################################################"
   ]
  },
  {
   "cell_type": "code",
   "execution_count": null,
   "metadata": {},
   "outputs": [],
   "source": [
    "## Define the plots inside a function above and call them in this cell one by one. When I run this cell, all plots\n",
    "## asked in Q1 should be generated. \n",
    "##############################################################################\n",
    "# TODO: Plotting for Question 1                                              #\n",
    "pass\n",
    "##############################################################################\n",
    "#                             END OF YOUR CODE                               #\n",
    "##############################################################################"
   ]
  },
  {
   "cell_type": "markdown",
   "metadata": {},
   "source": [
    "## Answers for Question 1\n",
    "Add explanations for the answers along with tables here.\n",
    "### Answer for 1.1\n",
    "Explain your experimentations with justification here\n",
    "\n",
    "| This          | is            | sample  |table   |\n",
    "| ------------- |:-------------:| -------:|-------:|\n",
    "| sample 1      | sample 1      | sample 1|sample 1|\n",
    "\n",
    "### Answer for 1.2\n",
    "Explain your experimentations with justification here\n",
    "\n",
    "| This          | is            | sample  |table   |\n",
    "| ------------- |:-------------:| -------:|-------:|\n",
    "| sample 2      | sample 2      | sample 2|sample 2|\n",
    "\n"
   ]
  },
  {
   "cell_type": "markdown",
   "metadata": {},
   "source": [
    "# Question 2: ICP Coding\n",
    "Implement basic ICP algorithm with (given) known correspondences. \n",
    "\n",
    "Let X be your point cloud observed from the initial position. Your robot moved and observed P1 as your current point cloud. Same with P2 under a different transformation. Now you wish to apply ICP to recover transformation between (X & P1) and (X & P2). Use *root mean squared error (rmse)* as the error metric."
   ]
  },
  {
   "cell_type": "code",
   "execution_count": 5,
   "metadata": {},
   "outputs": [],
   "source": [
    "# HELPER FUNCTIONS: DON'T EDIT THIS BLOCK - If you want to test on more cases, you can add code to this block but\n",
    "# DON'T delete existing code.\n",
    "\n",
    "\n",
    "# Visualizing ICP registration\n",
    "def plot_icp(X, P, P0, i, rmse):\n",
    "  plt.cla()\n",
    "  plt.scatter(X[0,:], X[1,:], c='k', marker='o', s=50, lw=0)\n",
    "  plt.scatter(P[0,:], P[1,:], c='r', marker='o', s=50, lw=0)\n",
    "  plt.scatter(P0[0,:], P0[1,:], c='b', marker='o', s=50, lw=0)\n",
    "  plt.legend(('X', 'P', 'P0'), loc='lower left')\n",
    "  plt.plot(np.vstack((X[0,:], P[0,:])), np.vstack((X[1,:], P[1,:])) ,c='k')\n",
    "  plt.title(\"Iteration: \" + str(i) + \"  RMSE: \" + str(rmse))\n",
    "  plt.axis([-10, 15, -10, 15])\n",
    "  plt.gca().set_aspect('equal', adjustable='box')\n",
    "  plt.draw()\n",
    "  plt.pause(2)\n",
    "  return\n",
    "\n",
    "# Generating data for our simple ICP\n",
    "def generate_data():\n",
    "  \n",
    "  # create reference data  \n",
    "  X = np.array([[0, 1, 2, 3, 4, 5, 6, 7, 8, 9, 9, 9, 9, 9, 9, 9],\n",
    "                [1, 1, 1, 1, 1, 1, 1, 1, 1, 1, 0,-1,-2,-3,-4,-5]])\n",
    "  \n",
    "  # add noise\n",
    "  P = X + 0.05 * np.random.normal(0, 1, X.shape)\n",
    "  \n",
    "  # translate\n",
    "  P[0,:] = P[0,:] + 1\n",
    "  P[1,:] = P[1,:] + 1\n",
    "  \n",
    "  # rotate\n",
    "  theta1 = ( 10.0 / 360) * 2 * np.pi\n",
    "  theta2 = (110.0 / 360) * 2 * np.pi\n",
    "  rot1 = np.array([[math.cos(theta1), -math.sin(theta1)],\n",
    "                   [math.sin(theta1),  math.cos(theta1)]])\n",
    "  rot2 = np.array([[math.cos(theta2), -math.sin(theta2)],\n",
    "                   [math.sin(theta2),  math.cos(theta2)]])\n",
    "  \n",
    "  # sets with known correspondences\n",
    "  P1 = np.dot(rot1, P)\n",
    "  P2 = np.dot(rot2, P)\n",
    "  \n",
    "  return X, P1, P2"
   ]
  },
  {
   "cell_type": "code",
   "execution_count": 6,
   "metadata": {},
   "outputs": [
    {
     "name": "stdout",
     "output_type": "stream",
     "text": [
      "(2, 16) (2, 16) (2, 16)\n"
     ]
    }
   ],
   "source": [
    "X, P1, P2 = generate_data()\n",
    "print(X.shape,P1.shape,P2.shape)"
   ]
  },
  {
   "cell_type": "code",
   "execution_count": null,
   "metadata": {},
   "outputs": [],
   "source": [
    "# TODO: Do tasks described in Q2                                             #\n",
    "##############################################################################\n",
    "# Replace \"pass\" statement with your code\n",
    "\n",
    "# TODO1: Get data X, P1, P2 from helper function generate_data(). \n",
    "X, P1, P2 = generate_data()\n",
    "\n",
    "# TODO2: Apply ICP between X and P_i. (in our case,(X & P1) and (X & P2))\n",
    "def ICP(X, P):\n",
    "    num_iter = 5 #Experiment & check if your theoretical understanding is correct.\n",
    "    P0 = P #Initialization\n",
    "    for i in range(num_iter):\n",
    "        # implementing ICP:\n",
    "        \n",
    "\n",
    "        # TODO2.1: what's current error?\n",
    "        # TODO2.2: call visualization helper function plot_icp.\n",
    "        # TODO2.3: Implement ICP to get R, t\n",
    "        pass\n",
    "        #P = np.dot(R, P) + t #Uncomment this: transforming my current point cloud towards initial point cloud\n",
    "\n",
    "    return\n",
    "##############################################################################\n",
    "#                             END OF YOUR CODE                               #\n",
    "##############################################################################"
   ]
  },
  {
   "cell_type": "code",
   "execution_count": 8,
   "metadata": {},
   "outputs": [],
   "source": [
    "def plot_values(values, label):\n",
    "    fig = plt.figure(figsize=(10, 4))\n",
    "    ax = fig.add_subplot(111)\n",
    "    ax.plot(values, label=label)\n",
    "    ax.legend()\n",
    "    ax.grid(True)\n",
    "    plt.show()"
   ]
  },
  {
   "cell_type": "code",
   "execution_count": 12,
   "metadata": {},
   "outputs": [],
   "source": [
    "def R(theta):\n",
    "    return np.array([[np.cos(theta), -np.sin(theta)],\n",
    "                     [np.sin(theta),  np.cos(theta)]])\n",
    "def icp_least_squares(P, Q, iterations=30, kernel=lambda distance: 1.0):\n",
    "    x = np.zeros((3, 1))\n",
    "    chi_values = []\n",
    "    x_values = [x.copy()]  # Initial value for transformation.\n",
    "    P_values = [P.copy()]\n",
    "    P_copy = P.copy()\n",
    "    corresp_values = []\n",
    "    for i in range(iterations):\n",
    "        rot = R(x[2])\n",
    "        t = x[0:2]\n",
    "        correspondences = get_correspondence_indices(P_copy, Q)\n",
    "        corresp_values.append(correspondences)\n",
    "        H, g, chi = prepare_system(x, P, Q, correspondences, kernel)\n",
    "        dx = np.linalg.lstsq(H, -g, rcond=None)[0]\n",
    "        x += dx\n",
    "        x[2] = atan2(sin(x[2]), cos(x[2])) # normalize angle\n",
    "        chi_values.append(chi.item(0))\n",
    "        x_values.append(x.copy())\n",
    "        rot = R(x[2])\n",
    "        t = x[0:2]\n",
    "        P_copy = rot.dot(P.copy()) + t\n",
    "        P_values.append(P_copy)\n",
    "    corresp_values.append(corresp_values[-1])\n",
    "    return P_values, chi_values, corresp_values\n"
   ]
  },
  {
   "cell_type": "code",
   "execution_count": 14,
   "metadata": {},
   "outputs": [],
   "source": [
    "def get_correspondence_indices(P, Q):\n",
    "    \"\"\"For each point in P find closest one in Q.\"\"\"\n",
    "    p_size = P.shape[1]\n",
    "    q_size = Q.shape[1]\n",
    "    correspondences = []\n",
    "    for i in range(p_size):\n",
    "        p_point = P[:, i]\n",
    "        min_dist = sys.maxsize\n",
    "        chosen_idx = -1\n",
    "        for j in range(q_size):\n",
    "            q_point = Q[:, j]\n",
    "            dist = np.linalg.norm(q_point - p_point)\n",
    "            if dist < min_dist:\n",
    "                min_dist = dist\n",
    "                chosen_idx = j\n",
    "        correspondences.append((i, chosen_idx))\n",
    "    return correspondences"
   ]
  },
  {
   "cell_type": "code",
   "execution_count": 15,
   "metadata": {},
   "outputs": [
    {
     "ename": "NameError",
     "evalue": "name 'sys' is not defined",
     "output_type": "error",
     "traceback": [
      "\u001b[0;31m---------------------------------------------------------------------------\u001b[0m",
      "\u001b[0;31mNameError\u001b[0m                                 Traceback (most recent call last)",
      "\u001b[0;32m<ipython-input-15-b59e84eab9f0>\u001b[0m in \u001b[0;36m<module>\u001b[0;34m\u001b[0m\n\u001b[0;32m----> 1\u001b[0;31m \u001b[0mP_values\u001b[0m\u001b[0;34m,\u001b[0m \u001b[0mchi_values\u001b[0m\u001b[0;34m,\u001b[0m \u001b[0mcorresp_values\u001b[0m\u001b[0;34m=\u001b[0m \u001b[0micp_least_squares\u001b[0m\u001b[0;34m(\u001b[0m\u001b[0mX\u001b[0m\u001b[0;34m,\u001b[0m\u001b[0mP1\u001b[0m\u001b[0;34m)\u001b[0m\u001b[0;34m\u001b[0m\u001b[0;34m\u001b[0m\u001b[0m\n\u001b[0m\u001b[1;32m      2\u001b[0m \u001b[0mplot_values\u001b[0m\u001b[0;34m(\u001b[0m\u001b[0mchi_values\u001b[0m\u001b[0;34m,\u001b[0m \u001b[0mlabel\u001b[0m\u001b[0;34m=\u001b[0m\u001b[0;34m\"chi^2\"\u001b[0m\u001b[0;34m)\u001b[0m\u001b[0;34m\u001b[0m\u001b[0;34m\u001b[0m\u001b[0m\n\u001b[1;32m      3\u001b[0m \u001b[0mprint\u001b[0m\u001b[0;34m(\u001b[0m\u001b[0mchi_values\u001b[0m\u001b[0;34m)\u001b[0m\u001b[0;34m\u001b[0m\u001b[0;34m\u001b[0m\u001b[0m\n",
      "\u001b[0;32m<ipython-input-12-8166a688f36d>\u001b[0m in \u001b[0;36micp_least_squares\u001b[0;34m(P, Q, iterations, kernel)\u001b[0m\n\u001b[1;32m     12\u001b[0m         \u001b[0mrot\u001b[0m \u001b[0;34m=\u001b[0m \u001b[0mR\u001b[0m\u001b[0;34m(\u001b[0m\u001b[0mx\u001b[0m\u001b[0;34m[\u001b[0m\u001b[0;36m2\u001b[0m\u001b[0;34m]\u001b[0m\u001b[0;34m)\u001b[0m\u001b[0;34m\u001b[0m\u001b[0;34m\u001b[0m\u001b[0m\n\u001b[1;32m     13\u001b[0m         \u001b[0mt\u001b[0m \u001b[0;34m=\u001b[0m \u001b[0mx\u001b[0m\u001b[0;34m[\u001b[0m\u001b[0;36m0\u001b[0m\u001b[0;34m:\u001b[0m\u001b[0;36m2\u001b[0m\u001b[0;34m]\u001b[0m\u001b[0;34m\u001b[0m\u001b[0;34m\u001b[0m\u001b[0m\n\u001b[0;32m---> 14\u001b[0;31m         \u001b[0mcorrespondences\u001b[0m \u001b[0;34m=\u001b[0m \u001b[0mget_correspondence_indices\u001b[0m\u001b[0;34m(\u001b[0m\u001b[0mP_copy\u001b[0m\u001b[0;34m,\u001b[0m \u001b[0mQ\u001b[0m\u001b[0;34m)\u001b[0m\u001b[0;34m\u001b[0m\u001b[0;34m\u001b[0m\u001b[0m\n\u001b[0m\u001b[1;32m     15\u001b[0m         \u001b[0mcorresp_values\u001b[0m\u001b[0;34m.\u001b[0m\u001b[0mappend\u001b[0m\u001b[0;34m(\u001b[0m\u001b[0mcorrespondences\u001b[0m\u001b[0;34m)\u001b[0m\u001b[0;34m\u001b[0m\u001b[0;34m\u001b[0m\u001b[0m\n\u001b[1;32m     16\u001b[0m         \u001b[0mH\u001b[0m\u001b[0;34m,\u001b[0m \u001b[0mg\u001b[0m\u001b[0;34m,\u001b[0m \u001b[0mchi\u001b[0m \u001b[0;34m=\u001b[0m \u001b[0mprepare_system\u001b[0m\u001b[0;34m(\u001b[0m\u001b[0mx\u001b[0m\u001b[0;34m,\u001b[0m \u001b[0mP\u001b[0m\u001b[0;34m,\u001b[0m \u001b[0mQ\u001b[0m\u001b[0;34m,\u001b[0m \u001b[0mcorrespondences\u001b[0m\u001b[0;34m,\u001b[0m \u001b[0mkernel\u001b[0m\u001b[0;34m)\u001b[0m\u001b[0;34m\u001b[0m\u001b[0;34m\u001b[0m\u001b[0m\n",
      "\u001b[0;32m<ipython-input-14-8e9e392ac3d7>\u001b[0m in \u001b[0;36mget_correspondence_indices\u001b[0;34m(P, Q)\u001b[0m\n\u001b[1;32m      6\u001b[0m     \u001b[0;32mfor\u001b[0m \u001b[0mi\u001b[0m \u001b[0;32min\u001b[0m \u001b[0mrange\u001b[0m\u001b[0;34m(\u001b[0m\u001b[0mp_size\u001b[0m\u001b[0;34m)\u001b[0m\u001b[0;34m:\u001b[0m\u001b[0;34m\u001b[0m\u001b[0;34m\u001b[0m\u001b[0m\n\u001b[1;32m      7\u001b[0m         \u001b[0mp_point\u001b[0m \u001b[0;34m=\u001b[0m \u001b[0mP\u001b[0m\u001b[0;34m[\u001b[0m\u001b[0;34m:\u001b[0m\u001b[0;34m,\u001b[0m \u001b[0mi\u001b[0m\u001b[0;34m]\u001b[0m\u001b[0;34m\u001b[0m\u001b[0;34m\u001b[0m\u001b[0m\n\u001b[0;32m----> 8\u001b[0;31m         \u001b[0mmin_dist\u001b[0m \u001b[0;34m=\u001b[0m \u001b[0msys\u001b[0m\u001b[0;34m.\u001b[0m\u001b[0mmaxsize\u001b[0m\u001b[0;34m\u001b[0m\u001b[0;34m\u001b[0m\u001b[0m\n\u001b[0m\u001b[1;32m      9\u001b[0m         \u001b[0mchosen_idx\u001b[0m \u001b[0;34m=\u001b[0m \u001b[0;34m-\u001b[0m\u001b[0;36m1\u001b[0m\u001b[0;34m\u001b[0m\u001b[0;34m\u001b[0m\u001b[0m\n\u001b[1;32m     10\u001b[0m         \u001b[0;32mfor\u001b[0m \u001b[0mj\u001b[0m \u001b[0;32min\u001b[0m \u001b[0mrange\u001b[0m\u001b[0;34m(\u001b[0m\u001b[0mq_size\u001b[0m\u001b[0;34m)\u001b[0m\u001b[0;34m:\u001b[0m\u001b[0;34m\u001b[0m\u001b[0;34m\u001b[0m\u001b[0m\n",
      "\u001b[0;31mNameError\u001b[0m: name 'sys' is not defined"
     ]
    }
   ],
   "source": [
    "P_values, chi_values, corresp_values= icp_least_squares(X,P1)\n",
    "plot_values(chi_values, label=\"chi^2\")\n",
    "print(chi_values)"
   ]
  },
  {
   "cell_type": "code",
   "execution_count": null,
   "metadata": {},
   "outputs": [],
   "source": [
    "# Call ICP on P1 & P2\n",
    "\n",
    "#ICP(X,P1) #Uncomment this\n",
    "#ICP(X,P2) #Uncomment this"
   ]
  }
 ],
 "metadata": {
  "kernelspec": {
   "display_name": "Python 3",
   "language": "python",
   "name": "python3"
  },
  "language_info": {
   "codemirror_mode": {
    "name": "ipython",
    "version": 3
   },
   "file_extension": ".py",
   "mimetype": "text/x-python",
   "name": "python",
   "nbconvert_exporter": "python",
   "pygments_lexer": "ipython3",
   "version": "3.8.3"
  }
 },
 "nbformat": 4,
 "nbformat_minor": 4
}
